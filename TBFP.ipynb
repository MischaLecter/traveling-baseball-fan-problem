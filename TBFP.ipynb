{
 "cells": [
  {
   "cell_type": "markdown",
   "metadata": {},
   "source": [
    "# The Traveling Baseball Fan Problem\n",
    "\n",
    "[ABSTRACT]\n",
    "\n",
    "## Problem Definition\n",
    "\n",
    "[DEFINITION]\n",
    "\n",
    "[DIFFICULTY]\n",
    "\n",
    "[ASSUMPTIONS]\n",
    "\n",
    "[EXTENSIONS]\n",
    "\n",
    "## Modeling\n",
    "\n",
    "[MODELS]\n",
    "\n",
    "## Methodology\n",
    "\n",
    "[DATA]\n",
    "\n",
    "[SASOPTPY]\n",
    "\n",
    "[PROCESS]\n",
    "\n",
    "[DESIGN OF EXPERIMENTS]\n",
    "\n",
    "## The Optimal Tour\n",
    "\n",
    "[BOKEH-SCATTER PLOT]\n",
    "\n",
    "[PLOT OF THE 6-MONTH OPTIMAL TOUR OBJ1]\n",
    "\n",
    "[PLOT OF THE 6-MONTH OPTIMAL TOUR OBJ2]\n",
    "\n",
    "[TABLE FEATURING DETAILS OF ALL SOLUTIONS]"
   ]
  },
  {
   "cell_type": "markdown",
   "metadata": {},
   "source": [
    "$$\n",
    "\\begin{array}{rrcll}\n",
    "\\text{minimize:} & \\text{Total Time} \\\\\n",
    "\\text{subject to:} & \\text{Visit all stadiums once} \\\\\n",
    "& \\text{Balance}\n",
    "\\end{array}\n",
    "$$\n",
    "\n",
    "$$\n",
    "\\begin{array}{rrcll}\n",
    "\\text{minimize:} & \\displaystyle \\sum_{(i,j) \\in ARCS} c_{i,j} x_{i,j} \\\\\n",
    "\\text{subject to:} &  \\displaystyle \\sum_{(i,j) \\in ARCS \\; | \\; loc[j] = s} x_{i,j} &=& 1 & & \\forall s \\in STADIUMS \\\\\n",
    "& \\displaystyle \\sum_{(i,g) \\in ARCS} x_{i,g} - \\sum_{(g,j) \\in ARCS} x_{g,j} & = & 0 & & \\forall g \\in NODES\n",
    "\\end{array}\n",
    "$$"
   ]
  },
  {
   "cell_type": "markdown",
   "metadata": {},
   "source": [
    "# Solutions"
   ]
  },
  {
   "cell_type": "code",
   "execution_count": 29,
   "metadata": {
    "scrolled": false
   },
   "outputs": [],
   "source": [
    "import os\n",
    "\n",
    "solutions = []\n",
    "for filename in os.listdir(os.getcwd() + '/results'):\n",
    "    f = open('results/'+filename, 'r')\n",
    "    row = {'ref': filename}\n",
    "    for line in f:\n",
    "        if 'schd' in line:\n",
    "            row['schd'] = []\n",
    "            for visit in f:\n",
    "                if ']' not in visit:\n",
    "                    items = visit.split(',')\n",
    "                    row['schd'].append(items)\n",
    "        elif ': ' in line:\n",
    "            pl = line.split(': ')\n",
    "            row[pl[0]] = pl[1].replace('\\n','')\n",
    "    solutions.append(row)"
   ]
  },
  {
   "cell_type": "code",
   "execution_count": null,
   "metadata": {},
   "outputs": [],
   "source": [
    "\n"
   ]
  },
  {
   "cell_type": "code",
   "execution_count": null,
   "metadata": {},
   "outputs": [],
   "source": []
  }
 ],
 "metadata": {
  "kernelspec": {
   "display_name": "Python 3",
   "language": "python",
   "name": "python3"
  },
  "language_info": {
   "codemirror_mode": {
    "name": "ipython",
    "version": 3
   },
   "file_extension": ".py",
   "mimetype": "text/x-python",
   "name": "python",
   "nbconvert_exporter": "python",
   "pygments_lexer": "ipython3",
   "version": "3.5.2"
  }
 },
 "nbformat": 4,
 "nbformat_minor": 2
}
